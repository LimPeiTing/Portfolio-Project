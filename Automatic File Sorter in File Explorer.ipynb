{
 "cells": [
  {
   "cell_type": "code",
   "execution_count": 62,
   "id": "7d9572d0-8df8-4458-85f5-d75a9f17ef08",
   "metadata": {},
   "outputs": [],
   "source": [
    "import os, shutil"
   ]
  },
  {
   "cell_type": "code",
   "execution_count": 64,
   "id": "3ecf6a94-ac51-4647-848c-6ebc8d00b443",
   "metadata": {},
   "outputs": [],
   "source": [
    "path = r\"C:/Users/LIM PEI TING/Documents/Python project _Automatic file sorter/\""
   ]
  },
  {
   "cell_type": "code",
   "execution_count": 66,
   "id": "63acf23a-9e9e-4cee-adab-bb2d5e643481",
   "metadata": {},
   "outputs": [],
   "source": [
    "file_name = os.listdir(path)"
   ]
  },
  {
   "cell_type": "code",
   "execution_count": 68,
   "id": "eb60319a-a04c-4d2e-94ec-7ed28086e24a",
   "metadata": {},
   "outputs": [],
   "source": [
    "folder_name = ['jpg files', 'pdf files', 'xlsx files']"
   ]
  },
  {
   "cell_type": "code",
   "execution_count": 70,
   "id": "aeb893a2-ee9d-4956-9756-7ad8eeb6c57d",
   "metadata": {},
   "outputs": [],
   "source": [
    "for loop in range (0,3):\n",
    "    if not os.path.exists(path + folder_name[loop]):\n",
    "        #print path + folder_name[loop]\n",
    "        os.makedirs(path + folder_name[loop])\n",
    "\n",
    "for file in file_name:\n",
    "    if \".jpg\" in file and not os.path.exists(path + \"jpg files/\"+ file):\n",
    "        shutil.move(path + file, path + \"jpg files/\"+ file)\n",
    "    elif \".pdf\" in file and not os.path.exists(path + \"pdf files/\"+ file):\n",
    "        shutil.move(path + file, path + \"pdf files/\"+ file)\n",
    "    elif \".xlsx\" in file and not os.path.exists(path + \"xlsx files/\"+ file):\n",
    "        shutil.move(path + file, path + \"xlsx files/\"+ file)"
   ]
  },
  {
   "cell_type": "code",
   "execution_count": null,
   "id": "6531a8da-21d2-4fbc-af32-6b1b683891a0",
   "metadata": {},
   "outputs": [],
   "source": []
  },
  {
   "cell_type": "code",
   "execution_count": null,
   "id": "30231f8f-5e7d-45d0-8772-50364cfc0b78",
   "metadata": {},
   "outputs": [],
   "source": []
  },
  {
   "cell_type": "code",
   "execution_count": null,
   "id": "39126f4b-abcc-4926-bc69-f7c7bc1141c6",
   "metadata": {},
   "outputs": [],
   "source": [
    "# creating an automatic file sorter so that each different file type can automatically store in each folder with different file type (csv, txt, png, jpg, etc..)"
   ]
  },
  {
   "cell_type": "code",
   "execution_count": 9,
   "id": "6d971f70-768d-4a3c-8dd5-64707e3cd4df",
   "metadata": {},
   "outputs": [],
   "source": [
    "# os means operating system, shutil means \"shell utilities\", sh standing for shell, util standing for utilities.\n",
    "# The shutil module offers a number of high-level operations on files and collections of files. In particular, functions are provided which support file copying and removal."
   ]
  },
  {
   "cell_type": "code",
   "execution_count": null,
   "id": "c9c80cb5-d0da-4b31-99bf-1bac9e71d650",
   "metadata": {},
   "outputs": [],
   "source": [
    "# change the path with \\ to / "
   ]
  },
  {
   "cell_type": "code",
   "execution_count": null,
   "id": "e5acffb1-7f1b-4b2e-b414-02f07f135c9f",
   "metadata": {},
   "outputs": [],
   "source": [
    "# r is in front to indicate raw text "
   ]
  },
  {
   "cell_type": "code",
   "execution_count": null,
   "id": "b1a625a2-f8bf-41ee-a149-1385cb75936a",
   "metadata": {},
   "outputs": [],
   "source": [
    "#os.listdir is list dictionary, to extract all the information of the list "
   ]
  },
  {
   "cell_type": "code",
   "execution_count": null,
   "id": "76c44e09-6e1e-4a5f-ac9c-a84589731bd3",
   "metadata": {},
   "outputs": [],
   "source": [
    "#  shutil.move(path + file, path + 'jpg files'+ file), this means that move the file from where to where with a comma (,)"
   ]
  },
  {
   "cell_type": "code",
   "execution_count": null,
   "id": "598bf81a-f3e3-4c87-afa5-4366e72f9613",
   "metadata": {},
   "outputs": [],
   "source": []
  },
  {
   "cell_type": "code",
   "execution_count": null,
   "id": "27394045-9e85-4032-b2fd-15d5ee9c47f0",
   "metadata": {},
   "outputs": [],
   "source": []
  }
 ],
 "metadata": {
  "kernelspec": {
   "display_name": "Python 3 (ipykernel)",
   "language": "python",
   "name": "python3"
  },
  "language_info": {
   "codemirror_mode": {
    "name": "ipython",
    "version": 3
   },
   "file_extension": ".py",
   "mimetype": "text/x-python",
   "name": "python",
   "nbconvert_exporter": "python",
   "pygments_lexer": "ipython3",
   "version": "3.12.7"
  }
 },
 "nbformat": 4,
 "nbformat_minor": 5
}
